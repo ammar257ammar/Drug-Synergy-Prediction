{
 "cells": [
  {
   "cell_type": "markdown",
   "id": "4dda7155",
   "metadata": {},
   "source": [
    "# Cancer drug synergy prediction project"
   ]
  },
  {
   "cell_type": "markdown",
   "id": "f9056515",
   "metadata": {},
   "source": [
    "The aim of this project is to build a regression model to predict the synergy between two drugs given the drugs and the cell line.\n",
    "\n",
    "The problem has been proposed before in a DREAM challenge:\n",
    "\n",
    "**AstraZeneca-Sanger Drug Combination Prediction DREAM Challenge**<br>\n",
    "https://www.synapse.org/#!Synapse:syn4231880/wiki/235645\n",
    "        "
   ]
  },
  {
   "cell_type": "markdown",
   "id": "aaedded0",
   "metadata": {},
   "source": [
    "## Data sources:\n",
    "    \n",
    "The main data source to obtain drug combination data is DrugCombDB.\n",
    "\n",
    "**DrugCombDB**: http://drugcombdb.denglab.org/ <br>\n",
    "publication: https://doi.org/10.1093/nar/gkz1007 <br>\n",
    "Downloaded Files: <br>\n",
    "&nbsp;&nbsp;&nbsp;1- Drug combinations scores: http://drugcombdb.denglab.org/download/drugcombs_scored.csv <br> \n",
    "&nbsp;&nbsp;&nbsp;2- Drug chemical info: http://drugcombdb.denglab.org/download/drug_chemical_info.csv<br>\n",
    "&nbsp;&nbsp;&nbsp;3- Cell line info: http://drugcombdb.denglab.org/download/cell_Line.csv <br>\n",
    "\n",
    "### Complementary data sources (data enrichment)\n",
    "\n",
    "**1- Pubchem REST API**: https://pubchemdocs.ncbi.nlm.nih.gov/pug-rest <br>\n",
    "\n",
    "**2- Cell line dataset from Expasy**: https://web.expasy.org/cellosaurus/ <br>\n",
    "Release 41: March 2022 <br>\n",
    "FTP folder: https://ftp.expasy.org/databases/cellosaurus <br>\n",
    "&nbsp;&nbsp;&nbsp;Dowload TXT: https://ftp.expasy.org/databases/cellosaurus/cellosaurus.txt <br>\n",
    "&nbsp;&nbsp;&nbsp;Download XML: https://ftp.expasy.org/databases/cellosaurus/cellosaurus.xml <br>\n",
    "&nbsp;&nbsp;&nbsp;Download XSD schema: https://ftp.expasy.org/databases/cellosaurus/cellosaurus.xsd <br>\n",
    "\n",
    "<br>\n",
    "\n",
    "**NOTE**: All the files were downloaded to the folder named \"data\" next to this Jupyter Notebook\n"
   ]
  },
  {
   "cell_type": "markdown",
   "id": "9f0345a7",
   "metadata": {},
   "source": [
    "### Required packages\n",
    "\n",
    "* numby\n",
    "* pandas\n",
    "* urllib\n",
    "* requests\n",
    "* xml\n",
    "* rdkit"
   ]
  },
  {
   "cell_type": "markdown",
   "id": "de52848f",
   "metadata": {},
   "source": [
    "### Import packages"
   ]
  },
  {
   "cell_type": "code",
   "execution_count": 1,
   "id": "60d071b4",
   "metadata": {},
   "outputs": [
    {
     "name": "stdout",
     "output_type": "stream",
     "text": [
      "Collecting rdkit-pypi\n",
      "  Downloading rdkit_pypi-2022.3.1-cp38-cp38-manylinux_2_17_x86_64.manylinux2014_x86_64.whl (22.7 MB)\n",
      "\u001b[K     |████████████████████████████████| 22.7 MB 9.6 MB/s eta 0:00:01     |██████████████▌                 | 10.3 MB 8.0 MB/s eta 0:00:02\n",
      "\u001b[?25hRequirement already satisfied: numpy>=1.19 in /opt/conda/lib/python3.8/site-packages (from rdkit-pypi) (1.20.2)\n",
      "Requirement already satisfied: Pillow in /opt/conda/lib/python3.8/site-packages (from rdkit-pypi) (8.1.2)\n",
      "Installing collected packages: rdkit-pypi\n",
      "Successfully installed rdkit-pypi-2022.3.1\n"
     ]
    }
   ],
   "source": [
    "!pip3 install rdkit-pypi"
   ]
  },
  {
   "cell_type": "code",
   "execution_count": 1,
   "id": "fc1e8b13",
   "metadata": {},
   "outputs": [],
   "source": [
    "import numpy as np\n",
    "import pandas as pd\n",
    "import urllib.parse as up\n",
    "import requests\n",
    "import xml.etree.ElementTree as ET"
   ]
  },
  {
   "cell_type": "code",
   "execution_count": 2,
   "id": "d42cc0d2",
   "metadata": {},
   "outputs": [],
   "source": [
    "from rdkit import Chem\n",
    "from rdkit.Chem import AllChem\n",
    "from rdkit.Chem import DataStructs\n",
    "from rdkit.Chem import rdMolDescriptors"
   ]
  },
  {
   "cell_type": "markdown",
   "id": "523143c5",
   "metadata": {},
   "source": [
    "### Define a function to obtain the SMILES string by drug cid or name"
   ]
  },
  {
   "cell_type": "code",
   "execution_count": 4,
   "id": "dcf1a005",
   "metadata": {},
   "outputs": [],
   "source": [
    "def get_pubchem_smiles(row, by=\"cid\"):\n",
    "    \n",
    "    if (pd.isnull(row['smilesString']) or row['smilesString'].strip() == \"\" or row['smilesString'].strip() == \"none\"):\n",
    "        \n",
    "        domain = 'cid'\n",
    "        \n",
    "        if(by == \"cid\"):\n",
    "            ent = row['cIds'][4:]\n",
    "            domain = 'cid'\n",
    "        elif(by == \"name\"):\n",
    "            ent = row['drugName']\n",
    "            domain = 'name'\n",
    "\n",
    "        ent = up.quote(ent.encode(\"utf-8\"))\n",
    "        \n",
    "        response = requests.get(\"https://pubchem.ncbi.nlm.nih.gov/rest/pug/compound/\"+domain+\"/\"+ent+\"/property/CanonicalSMILES/json\")\n",
    "        data = response.json()\n",
    "        \n",
    "        try:\n",
    "            return data['PropertyTable']['Properties'][0]['CanonicalSMILES']\n",
    "        except KeyError:\n",
    "            return np.NaN\n",
    "    else:\n",
    "        return row['smilesString']"
   ]
  },
  {
   "cell_type": "markdown",
   "id": "50bdef25",
   "metadata": {},
   "source": [
    "### Test Pubchem API"
   ]
  },
  {
   "cell_type": "code",
   "execution_count": 3,
   "id": "c9c22299",
   "metadata": {},
   "outputs": [],
   "source": [
    "def test(cid=\"00065628\"):\n",
    "    \n",
    "    response = requests.get(\"https://pubchem.ncbi.nlm.nih.gov/rest/pug/compound/cid/\"+cid+\"/property/CanonicalSMILES/json\")\n",
    "    data = response.json()\n",
    "    \n",
    "    print(data['PropertyTable']['Properties'][0]['CanonicalSMILES'])"
   ]
  },
  {
   "cell_type": "code",
   "execution_count": 4,
   "id": "17ec62b8",
   "metadata": {},
   "outputs": [
    {
     "name": "stdout",
     "output_type": "stream",
     "text": [
      "CN1C2=C(C=C(C=C2)N(CCCl)CCCl)N=C1CCCC(=O)O\n"
     ]
    }
   ],
   "source": [
    "test()"
   ]
  },
  {
   "cell_type": "markdown",
   "id": "dbc38d57",
   "metadata": {},
   "source": [
    "## Load and prepare the drugs chemcial info dataframe "
   ]
  },
  {
   "cell_type": "code",
   "execution_count": 5,
   "id": "725df0c0",
   "metadata": {},
   "outputs": [],
   "source": [
    "drug_info = pd.read_csv('data/drug_chemical_info.csv', sep=',', dtype='string')"
   ]
  },
  {
   "cell_type": "code",
   "execution_count": 6,
   "id": "020cd88d",
   "metadata": {},
   "outputs": [],
   "source": [
    "drug_info = drug_info.drop('drugNameOfficial', 1)\n",
    "drug_info = drug_info.drop('molecularWeight', 1)"
   ]
  },
  {
   "cell_type": "markdown",
   "id": "098b20fa",
   "metadata": {},
   "source": [
    "### Fill missing SMILES strings using Pubchem API"
   ]
  },
  {
   "cell_type": "code",
   "execution_count": 7,
   "id": "b11b294b",
   "metadata": {},
   "outputs": [],
   "source": [
    "drug_info['smilesString'] = drug_info.apply(get_pubchem_smiles, by=\"cid\", axis=1)"
   ]
  },
  {
   "cell_type": "code",
   "execution_count": 18,
   "id": "453b53ff",
   "metadata": {},
   "outputs": [],
   "source": [
    "drug_info = drug_info[drug_info['smilesString'].notna()] # 3 drugs were lost here since SMILES couldn't be obtained for them"
   ]
  },
  {
   "cell_type": "code",
   "execution_count": 21,
   "id": "fb10dea1",
   "metadata": {},
   "outputs": [
    {
     "data": {
      "text/html": [
       "<div>\n",
       "<style scoped>\n",
       "    .dataframe tbody tr th:only-of-type {\n",
       "        vertical-align: middle;\n",
       "    }\n",
       "\n",
       "    .dataframe tbody tr th {\n",
       "        vertical-align: top;\n",
       "    }\n",
       "\n",
       "    .dataframe thead th {\n",
       "        text-align: right;\n",
       "    }\n",
       "</style>\n",
       "<table border=\"1\" class=\"dataframe\">\n",
       "  <thead>\n",
       "    <tr style=\"text-align: right;\">\n",
       "      <th></th>\n",
       "      <th>drugName</th>\n",
       "      <th>smilesString</th>\n",
       "    </tr>\n",
       "  </thead>\n",
       "  <tbody>\n",
       "    <tr>\n",
       "      <th>0</th>\n",
       "      <td>Bendamustine</td>\n",
       "      <td>CN1C2=C(C=C(C=C2)N(CCCl)CCCl)N=C1CCCC(=O)O</td>\n",
       "    </tr>\n",
       "    <tr>\n",
       "      <th>1</th>\n",
       "      <td>Lonidamine</td>\n",
       "      <td>C1=CC=C2C(=C1)C(=NN2CC3=C(C=C(C=C3)Cl)Cl)C(=O)O</td>\n",
       "    </tr>\n",
       "    <tr>\n",
       "      <th>2</th>\n",
       "      <td>Lenalidomide</td>\n",
       "      <td>C1CC(=O)NC(=O)C1N2CC3=C(C2=O)C=CC=C3N</td>\n",
       "    </tr>\n",
       "    <tr>\n",
       "      <th>3</th>\n",
       "      <td>Cladribine</td>\n",
       "      <td>C1C(C(OC1N2C=NC3=C2N=C(N=C3N)Cl)CO)O</td>\n",
       "    </tr>\n",
       "    <tr>\n",
       "      <th>4</th>\n",
       "      <td>Pentostatin</td>\n",
       "      <td>C1C(C(OC1N2C=NC3=C2NC=NCC3O)CO)O</td>\n",
       "    </tr>\n",
       "  </tbody>\n",
       "</table>\n",
       "</div>"
      ],
      "text/plain": [
       "       drugName                                     smilesString\n",
       "0  Bendamustine       CN1C2=C(C=C(C=C2)N(CCCl)CCCl)N=C1CCCC(=O)O\n",
       "1    Lonidamine  C1=CC=C2C(=C1)C(=NN2CC3=C(C=C(C=C3)Cl)Cl)C(=O)O\n",
       "2  Lenalidomide            C1CC(=O)NC(=O)C1N2CC3=C(C2=O)C=CC=C3N\n",
       "3    Cladribine             C1C(C(OC1N2C=NC3=C2N=C(N=C3N)Cl)CO)O\n",
       "4   Pentostatin                 C1C(C(OC1N2C=NC3=C2NC=NCC3O)CO)O"
      ]
     },
     "execution_count": 21,
     "metadata": {},
     "output_type": "execute_result"
    }
   ],
   "source": [
    "drug_info.head()"
   ]
  },
  {
   "cell_type": "code",
   "execution_count": 20,
   "id": "5aab1424",
   "metadata": {},
   "outputs": [],
   "source": [
    "drug_info.to_csv('output/drug_chemical_info_complete.csv', sep=',', index=False, encoding=\"utf-8\")"
   ]
  },
  {
   "cell_type": "markdown",
   "id": "313b0f72",
   "metadata": {},
   "source": [
    "### We want to check if the dug combination scores dataframe contains more drugs than the drug chemical info dataframe"
   ]
  },
  {
   "cell_type": "code",
   "execution_count": 21,
   "id": "4db44499",
   "metadata": {},
   "outputs": [],
   "source": [
    "drug_ref_set = set(drug_info['drugName'].str.lower().dropna().tolist())"
   ]
  },
  {
   "cell_type": "code",
   "execution_count": 22,
   "id": "6fd41db1",
   "metadata": {},
   "outputs": [
    {
     "data": {
      "text/plain": [
       "3056"
      ]
     },
     "execution_count": 22,
     "metadata": {},
     "output_type": "execute_result"
    }
   ],
   "source": [
    "len(drug_ref_set)"
   ]
  },
  {
   "cell_type": "code",
   "execution_count": 23,
   "id": "19d7b1a0",
   "metadata": {},
   "outputs": [],
   "source": [
    "drugcomb_info = pd.read_csv('data/drugcombs_scored.csv', sep=',', dtype='string')"
   ]
  },
  {
   "cell_type": "code",
   "execution_count": 24,
   "id": "ec402bed",
   "metadata": {},
   "outputs": [],
   "source": [
    "drugs1 = set(drugcomb_info['Drug1'].str.lower().dropna().tolist())\n",
    "drugs2 = set(drugcomb_info['Drug2'].str.lower().dropna().tolist())\n",
    "drug_comb_set = drugs1 | drugs2 #union"
   ]
  },
  {
   "cell_type": "code",
   "execution_count": 25,
   "id": "c241ee0f",
   "metadata": {},
   "outputs": [
    {
     "data": {
      "text/plain": [
       "5351"
      ]
     },
     "execution_count": 25,
     "metadata": {},
     "output_type": "execute_result"
    }
   ],
   "source": [
    "len(drug_comb_set)"
   ]
  },
  {
   "cell_type": "markdown",
   "id": "d2595dfd",
   "metadata": {},
   "source": [
    "### Apparently, there is 2312 more drugs in the drugcomp scores dataframe than the drug chemical info dataframe"
   ]
  },
  {
   "cell_type": "code",
   "execution_count": 26,
   "id": "97b712c0",
   "metadata": {},
   "outputs": [],
   "source": [
    "missing_drugs = drug_comb_set - drug_ref_set"
   ]
  },
  {
   "cell_type": "code",
   "execution_count": 27,
   "id": "4b4208c7",
   "metadata": {},
   "outputs": [
    {
     "data": {
      "text/plain": [
       "2315"
      ]
     },
     "execution_count": 27,
     "metadata": {},
     "output_type": "execute_result"
    }
   ],
   "source": [
    "len(missing_drugs)"
   ]
  },
  {
   "cell_type": "markdown",
   "id": "306ae275",
   "metadata": {},
   "source": [
    "### Lets create a dataframe from the missing drugs and obtiain their SMILES from Pubchem API by name"
   ]
  },
  {
   "cell_type": "code",
   "execution_count": 28,
   "id": "77231b87",
   "metadata": {},
   "outputs": [],
   "source": [
    "missing_drugs_df = pd.DataFrame(missing_drugs, columns=['drugName'])"
   ]
  },
  {
   "cell_type": "code",
   "execution_count": 29,
   "id": "752a3d5f",
   "metadata": {},
   "outputs": [],
   "source": [
    "missing_drugs_df['smilesString'] = \"none\""
   ]
  },
  {
   "cell_type": "code",
   "execution_count": 30,
   "id": "2cbb4ab7",
   "metadata": {},
   "outputs": [],
   "source": [
    "missing_drugs_df['smilesString'] = missing_drugs_df.apply(get_pubchem_smiles, by=\"name\", axis=1)"
   ]
  },
  {
   "cell_type": "code",
   "execution_count": 34,
   "id": "4d5e537f",
   "metadata": {},
   "outputs": [],
   "source": [
    "missing_drugs_df = missing_drugs_df[missing_drugs_df['smilesString'].notna()]"
   ]
  },
  {
   "cell_type": "code",
   "execution_count": 35,
   "id": "958ea98e",
   "metadata": {},
   "outputs": [
    {
     "data": {
      "text/plain": [
       "(2238, 2)"
      ]
     },
     "execution_count": 35,
     "metadata": {},
     "output_type": "execute_result"
    }
   ],
   "source": [
    "missing_drugs_df.shape"
   ]
  },
  {
   "cell_type": "code",
   "execution_count": 36,
   "id": "6fa7161a",
   "metadata": {},
   "outputs": [
    {
     "data": {
      "text/html": [
       "<div>\n",
       "<style scoped>\n",
       "    .dataframe tbody tr th:only-of-type {\n",
       "        vertical-align: middle;\n",
       "    }\n",
       "\n",
       "    .dataframe tbody tr th {\n",
       "        vertical-align: top;\n",
       "    }\n",
       "\n",
       "    .dataframe thead th {\n",
       "        text-align: right;\n",
       "    }\n",
       "</style>\n",
       "<table border=\"1\" class=\"dataframe\">\n",
       "  <thead>\n",
       "    <tr style=\"text-align: right;\">\n",
       "      <th></th>\n",
       "      <th>drugName</th>\n",
       "      <th>smilesString</th>\n",
       "    </tr>\n",
       "  </thead>\n",
       "  <tbody>\n",
       "    <tr>\n",
       "      <th>0</th>\n",
       "      <td>l-(+)-rhamnose monohydrate</td>\n",
       "      <td>CC(C(C(C(C=O)O)O)O)O.O</td>\n",
       "    </tr>\n",
       "    <tr>\n",
       "      <th>1</th>\n",
       "      <td>gsk2606414</td>\n",
       "      <td>CN1C=C(C2=C(N=CN=C21)N)C3=CC4=C(C=C3)N(CC4)C(=...</td>\n",
       "    </tr>\n",
       "    <tr>\n",
       "      <th>2</th>\n",
       "      <td>mdivi-1</td>\n",
       "      <td>COC1=C(C=C(C(=C1)N2C(=O)C3=CC=CC=C3NC2=S)Cl)Cl</td>\n",
       "    </tr>\n",
       "    <tr>\n",
       "      <th>3</th>\n",
       "      <td>sb705498</td>\n",
       "      <td>C1CN(CC1NC(=O)NC2=CC=CC=C2Br)C3=NC=C(C=C3)C(F)...</td>\n",
       "    </tr>\n",
       "    <tr>\n",
       "      <th>4</th>\n",
       "      <td>sgc 0946</td>\n",
       "      <td>CC(C)N(CCCNC(=O)NC1=CC=C(C=C1)C(C)(C)C)CC2C(C(...</td>\n",
       "    </tr>\n",
       "  </tbody>\n",
       "</table>\n",
       "</div>"
      ],
      "text/plain": [
       "                     drugName  \\\n",
       "0  l-(+)-rhamnose monohydrate   \n",
       "1                  gsk2606414   \n",
       "2                     mdivi-1   \n",
       "3                    sb705498   \n",
       "4                    sgc 0946   \n",
       "\n",
       "                                        smilesString  \n",
       "0                             CC(C(C(C(C=O)O)O)O)O.O  \n",
       "1  CN1C=C(C2=C(N=CN=C21)N)C3=CC4=C(C=C3)N(CC4)C(=...  \n",
       "2     COC1=C(C=C(C(=C1)N2C(=O)C3=CC=CC=C3NC2=S)Cl)Cl  \n",
       "3  C1CN(CC1NC(=O)NC2=CC=CC=C2Br)C3=NC=C(C=C3)C(F)...  \n",
       "4  CC(C)N(CCCNC(=O)NC1=CC=C(C=C1)C(C)(C)C)CC2C(C(...  "
      ]
     },
     "execution_count": 36,
     "metadata": {},
     "output_type": "execute_result"
    }
   ],
   "source": [
    "missing_drugs_df.head()"
   ]
  },
  {
   "cell_type": "code",
   "execution_count": 37,
   "id": "b9195576",
   "metadata": {},
   "outputs": [],
   "source": [
    "missing_drugs_df.to_csv('output/missing_drug_chemical_smiles.csv', sep=',', index=False, encoding=\"utf-8\")"
   ]
  },
  {
   "cell_type": "markdown",
   "id": "cc93108f",
   "metadata": {},
   "source": [
    "### Now, lets combine the original drug info dataframe and the new missing drugs dataframe"
   ]
  },
  {
   "cell_type": "code",
   "execution_count": 38,
   "id": "5ce77cbe",
   "metadata": {},
   "outputs": [],
   "source": [
    "drug_info = drug_info[[\"drugName\", \"smilesString\"]].append(missing_drugs_df, ignore_index=True)"
   ]
  },
  {
   "cell_type": "code",
   "execution_count": 39,
   "id": "62db2af2",
   "metadata": {},
   "outputs": [
    {
     "data": {
      "text/plain": [
       "(5294, 2)"
      ]
     },
     "execution_count": 39,
     "metadata": {},
     "output_type": "execute_result"
    }
   ],
   "source": [
    "drug_info.shape"
   ]
  },
  {
   "cell_type": "code",
   "execution_count": 40,
   "id": "dfd57eb4",
   "metadata": {},
   "outputs": [],
   "source": [
    "drug_info.to_csv('output/all_drugs_with_smiles.csv', sep=',', index=False, encoding=\"utf-8\")"
   ]
  },
  {
   "cell_type": "code",
   "execution_count": 41,
   "id": "95b4eae8",
   "metadata": {},
   "outputs": [
    {
     "name": "stdout",
     "output_type": "stream",
     "text": [
      "0              CN1C2=C(C=C(C=C2)N(CCCl)CCCl)N=C1CCCC(=O)O\n",
      "1         C1=CC=C2C(=C1)C(=NN2CC3=C(C=C(C=C3)Cl)Cl)C(=O)O\n",
      "2                   C1CC(=O)NC(=O)C1N2CC3=C(C2=O)C=CC=C3N\n",
      "3                    C1C(C(OC1N2C=NC3=C2N=C(N=C3N)Cl)CO)O\n",
      "4                        C1C(C(OC1N2C=NC3=C2NC=NCC3O)CO)O\n",
      "5293                    C1=CC2=C(C=C1O)C(=CN2)CC(C(=O)O)N\n",
      "Name: smilesString, dtype: object\n"
     ]
    }
   ],
   "source": [
    "with pd.option_context('display.max_rows', None, 'display.max_columns', None):\n",
    "    print(drug_info.smilesString)"
   ]
  },
  {
   "cell_type": "code",
   "execution_count": 3,
   "id": "da6dddc9",
   "metadata": {},
   "outputs": [],
   "source": [
    "drug_info = pd.read_csv('output/all_drugs_with_smiles.csv', sep=',', dtype='string')"
   ]
  },
  {
   "cell_type": "markdown",
   "id": "d6ddb7e1",
   "metadata": {},
   "source": [
    "## Load and prepare the cell lines info dataframe"
   ]
  },
  {
   "cell_type": "code",
   "execution_count": 42,
   "id": "726754c8",
   "metadata": {},
   "outputs": [],
   "source": [
    "cellLine_info = pd.read_csv('data/cell_Line.csv', sep=',', dtype='string')"
   ]
  },
  {
   "cell_type": "code",
   "execution_count": 43,
   "id": "be76d61c",
   "metadata": {},
   "outputs": [
    {
     "data": {
      "text/plain": [
       "(104, 3)"
      ]
     },
     "execution_count": 43,
     "metadata": {},
     "output_type": "execute_result"
    }
   ],
   "source": [
    "cellLine_info.shape"
   ]
  },
  {
   "cell_type": "code",
   "execution_count": 44,
   "id": "fac0379f",
   "metadata": {},
   "outputs": [],
   "source": [
    "cellLine_info['category'] = 'none'\n",
    "cellLine_info['gender'] = 'none'\n",
    "cellLine_info['age'] = 'none'\n",
    "cellLine_info = cellLine_info.drop('tag', 1)"
   ]
  },
  {
   "cell_type": "code",
   "execution_count": 45,
   "id": "eca646ac",
   "metadata": {},
   "outputs": [
    {
     "data": {
      "text/html": [
       "<div>\n",
       "<style scoped>\n",
       "    .dataframe tbody tr th:only-of-type {\n",
       "        vertical-align: middle;\n",
       "    }\n",
       "\n",
       "    .dataframe tbody tr th {\n",
       "        vertical-align: top;\n",
       "    }\n",
       "\n",
       "    .dataframe thead th {\n",
       "        text-align: right;\n",
       "    }\n",
       "</style>\n",
       "<table border=\"1\" class=\"dataframe\">\n",
       "  <thead>\n",
       "    <tr style=\"text-align: right;\">\n",
       "      <th></th>\n",
       "      <th>cellName</th>\n",
       "      <th>cosmicId</th>\n",
       "      <th>category</th>\n",
       "      <th>gender</th>\n",
       "      <th>age</th>\n",
       "    </tr>\n",
       "  </thead>\n",
       "  <tbody>\n",
       "    <tr>\n",
       "      <th>0</th>\n",
       "      <td>786-0</td>\n",
       "      <td>905947</td>\n",
       "      <td>none</td>\n",
       "      <td>none</td>\n",
       "      <td>none</td>\n",
       "    </tr>\n",
       "    <tr>\n",
       "      <th>1</th>\n",
       "      <td>A498</td>\n",
       "      <td>905948</td>\n",
       "      <td>none</td>\n",
       "      <td>none</td>\n",
       "      <td>none</td>\n",
       "    </tr>\n",
       "    <tr>\n",
       "      <th>2</th>\n",
       "      <td>A549/ATCC</td>\n",
       "      <td>905949</td>\n",
       "      <td>none</td>\n",
       "      <td>none</td>\n",
       "      <td>none</td>\n",
       "    </tr>\n",
       "    <tr>\n",
       "      <th>3</th>\n",
       "      <td>ACHN</td>\n",
       "      <td>905950</td>\n",
       "      <td>none</td>\n",
       "      <td>none</td>\n",
       "      <td>none</td>\n",
       "    </tr>\n",
       "    <tr>\n",
       "      <th>4</th>\n",
       "      <td>CCRF-CEM</td>\n",
       "      <td>905952</td>\n",
       "      <td>none</td>\n",
       "      <td>none</td>\n",
       "      <td>none</td>\n",
       "    </tr>\n",
       "  </tbody>\n",
       "</table>\n",
       "</div>"
      ],
      "text/plain": [
       "    cellName cosmicId category gender   age\n",
       "0      786-0   905947     none   none  none\n",
       "1       A498   905948     none   none  none\n",
       "2  A549/ATCC   905949     none   none  none\n",
       "3       ACHN   905950     none   none  none\n",
       "4   CCRF-CEM   905952     none   none  none"
      ]
     },
     "execution_count": 45,
     "metadata": {},
     "output_type": "execute_result"
    }
   ],
   "source": [
    "cellLine_info.head()"
   ]
  },
  {
   "cell_type": "code",
   "execution_count": 46,
   "id": "7b3c7f2a",
   "metadata": {},
   "outputs": [
    {
     "data": {
      "text/plain": [
       "88"
      ]
     },
     "execution_count": 46,
     "metadata": {},
     "output_type": "execute_result"
    }
   ],
   "source": [
    "len(set(cellLine_info.cosmicId.tolist()))"
   ]
  },
  {
   "cell_type": "markdown",
   "id": "70cfa40c",
   "metadata": {},
   "source": [
    "### Enrich cell lines data with category, gender and age information"
   ]
  },
  {
   "cell_type": "code",
   "execution_count": 47,
   "id": "2318ae5c",
   "metadata": {},
   "outputs": [],
   "source": [
    "tree = ET.parse('data/cellosaurus.xml')\n",
    "root = tree.getroot()\n",
    "\n",
    "cellLinesList = root[1]"
   ]
  },
  {
   "cell_type": "code",
   "execution_count": 48,
   "id": "2e0e5530",
   "metadata": {},
   "outputs": [],
   "source": [
    "for cellLine in cellLinesList:\n",
    "    \n",
    "    category = ''\n",
    "    gender = ''\n",
    "    age = ''\n",
    "    \n",
    "    nameListElm = cellLine.find('name-list')\n",
    "    nameList = set()\n",
    "    \n",
    "    for nameElm in nameListElm:\n",
    "        nameList.add(nameElm.text.lower())     \n",
    "    nameList = list(nameList)\n",
    "    \n",
    "    refs = cellLine.find('xref-list')\n",
    "    accessionList = set()\n",
    "    \n",
    "    if(refs is not None):\n",
    "        for ref in refs:\n",
    "            if(ref.get('database') in [\"Cosmic\",\"Cosmic-CLP\"]):\n",
    "                accessionList.add(ref.get('accession').strip())\n",
    "    accessionList = list(accessionList)\n",
    "    \n",
    "    if('category' in cellLine.attrib):\n",
    "        category = cellLine.attrib['category']\n",
    "    else:\n",
    "        category = 'Undefined cell line type'\n",
    "        \n",
    "    if('sex' in cellLine.attrib):\n",
    "        gender = cellLine.attrib['sex']\n",
    "    else:\n",
    "        gender = \"Sex unspecified\"\n",
    "        \n",
    "    if('age' in cellLine.attrib):\n",
    "        age = cellLine.attrib['age']\n",
    "    else:\n",
    "        age = \"Age unspecified\"\n",
    "    \n",
    "    cellLine_info.loc[(cellLine_info['cellName'].str.lower().isin(nameList)) | (cellLine_info['cosmicId'].isin(accessionList)), 'category'] = category\n",
    "    cellLine_info.loc[(cellLine_info['cellName'].str.lower().isin(nameList)) | (cellLine_info['cosmicId'].isin(accessionList)), 'gender'] = gender\n",
    "    cellLine_info.loc[(cellLine_info['cellName'].str.lower().isin(nameList)) | (cellLine_info['cosmicId'].isin(accessionList)), 'age'] = age\n"
   ]
  },
  {
   "cell_type": "markdown",
   "id": "da1ec049",
   "metadata": {},
   "source": [
    "### One cell type was not found in Expasy cell lines but found online:\n",
    "https://www.atcc.org/products/crl-2946"
   ]
  },
  {
   "cell_type": "code",
   "execution_count": 49,
   "id": "b1c86e7f",
   "metadata": {},
   "outputs": [],
   "source": [
    "cellLine_info.loc[cellLine_info['cellName'] == \"UWB1289BRCA1\", 'category'] = \"Cancer cell line\"\n",
    "cellLine_info.loc[cellLine_info['cellName'] == \"UWB1289BRCA1\", 'gender'] = \"Female\"\n",
    "cellLine_info.loc[cellLine_info['cellName'] == \"UWB1289BRCA1\", 'age'] = \"56Y\""
   ]
  },
  {
   "cell_type": "markdown",
   "id": "7a22ec85",
   "metadata": {},
   "source": [
    "### After checking the \"age\" column, some incosistencies were found and fixed"
   ]
  },
  {
   "cell_type": "code",
   "execution_count": 50,
   "id": "453787f0",
   "metadata": {},
   "outputs": [
    {
     "data": {
      "text/plain": [
       "array(['58Y', '52Y', '22Y', '3Y11M', '70Y', '69Y', 'Age unspecified',\n",
       "       '48Y', '36Y', '60Y', '62Y', '47Y', '53Y', '43Y', '19Y', '64Y',\n",
       "       '51Y', '42Y', '61Y', '24Y', '67Y', '34Y', '75Y', '11Y', '54Y',\n",
       "       '30Y6M', '13W', '33Y', '49Y', '74Y', '55Y', 'Adult', '46Y',\n",
       "       'Blastocyst stage', '29Y', '50Y', '56Y', '27Y', '18Y', '65Y',\n",
       "       '59Y', '63Y', '39Y', '25-26Y'], dtype=object)"
      ]
     },
     "execution_count": 50,
     "metadata": {},
     "output_type": "execute_result"
    }
   ],
   "source": [
    "cellLine_info.age.unique()"
   ]
  },
  {
   "cell_type": "code",
   "execution_count": 51,
   "id": "65e5a3b9",
   "metadata": {},
   "outputs": [],
   "source": [
    "cellLine_info.loc[cellLine_info['age'] == \"13W\", 'age'] = \"1Y\"\n",
    "cellLine_info.loc[cellLine_info['age'] == \"Blastocyst stage\", 'age'] = \"Age unspecified\"\n",
    "cellLine_info.loc[cellLine_info['age'] == \"Adult\", 'age'] = \"Age unspecified\"\n",
    "cellLine_info.loc[cellLine_info['age'] == \"25-26Y\", 'age'] = \"25Y\"\n",
    "\n",
    "cellLine_info.loc[cellLine_info['age'] == \"3Y11M\", 'age'] = \"4Y\"\n",
    "cellLine_info.loc[cellLine_info['age'] == \"30Y6M\", 'age'] = \"31Y\""
   ]
  },
  {
   "cell_type": "code",
   "execution_count": 52,
   "id": "4d1fd32b",
   "metadata": {},
   "outputs": [
    {
     "data": {
      "text/plain": [
       "array(['58Y', '52Y', '22Y', '4Y', '70Y', '69Y', 'Age unspecified', '48Y',\n",
       "       '36Y', '60Y', '62Y', '47Y', '53Y', '43Y', '19Y', '64Y', '51Y',\n",
       "       '42Y', '61Y', '24Y', '67Y', '34Y', '75Y', '11Y', '54Y', '31Y',\n",
       "       '1Y', '33Y', '49Y', '74Y', '55Y', '46Y', '29Y', '50Y', '56Y',\n",
       "       '27Y', '18Y', '65Y', '59Y', '63Y', '39Y', '25Y'], dtype=object)"
      ]
     },
     "execution_count": 52,
     "metadata": {},
     "output_type": "execute_result"
    }
   ],
   "source": [
    "cellLine_info.age.unique()"
   ]
  },
  {
   "cell_type": "code",
   "execution_count": 53,
   "id": "2a9953d1",
   "metadata": {},
   "outputs": [
    {
     "data": {
      "text/html": [
       "<div>\n",
       "<style scoped>\n",
       "    .dataframe tbody tr th:only-of-type {\n",
       "        vertical-align: middle;\n",
       "    }\n",
       "\n",
       "    .dataframe tbody tr th {\n",
       "        vertical-align: top;\n",
       "    }\n",
       "\n",
       "    .dataframe thead th {\n",
       "        text-align: right;\n",
       "    }\n",
       "</style>\n",
       "<table border=\"1\" class=\"dataframe\">\n",
       "  <thead>\n",
       "    <tr style=\"text-align: right;\">\n",
       "      <th></th>\n",
       "      <th>cellName</th>\n",
       "      <th>cosmicId</th>\n",
       "      <th>category</th>\n",
       "      <th>gender</th>\n",
       "      <th>age</th>\n",
       "    </tr>\n",
       "  </thead>\n",
       "  <tbody>\n",
       "    <tr>\n",
       "      <th>0</th>\n",
       "      <td>786-0</td>\n",
       "      <td>905947</td>\n",
       "      <td>Cancer cell line</td>\n",
       "      <td>Male</td>\n",
       "      <td>58Y</td>\n",
       "    </tr>\n",
       "    <tr>\n",
       "      <th>1</th>\n",
       "      <td>A498</td>\n",
       "      <td>905948</td>\n",
       "      <td>Cancer cell line</td>\n",
       "      <td>Male</td>\n",
       "      <td>52Y</td>\n",
       "    </tr>\n",
       "    <tr>\n",
       "      <th>2</th>\n",
       "      <td>A549/ATCC</td>\n",
       "      <td>905949</td>\n",
       "      <td>Cancer cell line</td>\n",
       "      <td>Male</td>\n",
       "      <td>58Y</td>\n",
       "    </tr>\n",
       "    <tr>\n",
       "      <th>3</th>\n",
       "      <td>ACHN</td>\n",
       "      <td>905950</td>\n",
       "      <td>Cancer cell line</td>\n",
       "      <td>Male</td>\n",
       "      <td>22Y</td>\n",
       "    </tr>\n",
       "    <tr>\n",
       "      <th>4</th>\n",
       "      <td>CCRF-CEM</td>\n",
       "      <td>905952</td>\n",
       "      <td>Cancer cell line</td>\n",
       "      <td>Female</td>\n",
       "      <td>4Y</td>\n",
       "    </tr>\n",
       "  </tbody>\n",
       "</table>\n",
       "</div>"
      ],
      "text/plain": [
       "    cellName cosmicId          category  gender  age\n",
       "0      786-0   905947  Cancer cell line    Male  58Y\n",
       "1       A498   905948  Cancer cell line    Male  52Y\n",
       "2  A549/ATCC   905949  Cancer cell line    Male  58Y\n",
       "3       ACHN   905950  Cancer cell line    Male  22Y\n",
       "4   CCRF-CEM   905952  Cancer cell line  Female   4Y"
      ]
     },
     "execution_count": 53,
     "metadata": {},
     "output_type": "execute_result"
    }
   ],
   "source": [
    "cellLine_info.head()"
   ]
  },
  {
   "cell_type": "code",
   "execution_count": 54,
   "id": "5e419e61",
   "metadata": {},
   "outputs": [],
   "source": [
    "cellLine_info.to_csv('output/cell_lines_enriched.csv', sep=',', index=False, encoding=\"utf-8\")"
   ]
  },
  {
   "cell_type": "code",
   "execution_count": 4,
   "id": "be2d09df",
   "metadata": {},
   "outputs": [],
   "source": [
    "cellLine_info = pd.read_csv('output/cell_lines_enriched.csv', sep=',', dtype='string')"
   ]
  },
  {
   "cell_type": "markdown",
   "id": "bed24bd9",
   "metadata": {},
   "source": [
    "## Feature Engineering"
   ]
  },
  {
   "cell_type": "markdown",
   "id": "e868eefe",
   "metadata": {},
   "source": [
    "### Cell lines: apply One Hot Encoding on category and gender columns and clean the age column"
   ]
  },
  {
   "cell_type": "code",
   "execution_count": 5,
   "id": "de1046bc",
   "metadata": {},
   "outputs": [
    {
     "data": {
      "text/html": [
       "<div>\n",
       "<style scoped>\n",
       "    .dataframe tbody tr th:only-of-type {\n",
       "        vertical-align: middle;\n",
       "    }\n",
       "\n",
       "    .dataframe tbody tr th {\n",
       "        vertical-align: top;\n",
       "    }\n",
       "\n",
       "    .dataframe thead th {\n",
       "        text-align: right;\n",
       "    }\n",
       "</style>\n",
       "<table border=\"1\" class=\"dataframe\">\n",
       "  <thead>\n",
       "    <tr style=\"text-align: right;\">\n",
       "      <th></th>\n",
       "      <th>cellName</th>\n",
       "      <th>cosmicId</th>\n",
       "      <th>category</th>\n",
       "      <th>gender</th>\n",
       "      <th>age</th>\n",
       "    </tr>\n",
       "  </thead>\n",
       "  <tbody>\n",
       "    <tr>\n",
       "      <th>0</th>\n",
       "      <td>786-0</td>\n",
       "      <td>905947</td>\n",
       "      <td>Cancer cell line</td>\n",
       "      <td>Male</td>\n",
       "      <td>58Y</td>\n",
       "    </tr>\n",
       "    <tr>\n",
       "      <th>1</th>\n",
       "      <td>A498</td>\n",
       "      <td>905948</td>\n",
       "      <td>Cancer cell line</td>\n",
       "      <td>Male</td>\n",
       "      <td>52Y</td>\n",
       "    </tr>\n",
       "    <tr>\n",
       "      <th>2</th>\n",
       "      <td>A549/ATCC</td>\n",
       "      <td>905949</td>\n",
       "      <td>Cancer cell line</td>\n",
       "      <td>Male</td>\n",
       "      <td>58Y</td>\n",
       "    </tr>\n",
       "    <tr>\n",
       "      <th>3</th>\n",
       "      <td>ACHN</td>\n",
       "      <td>905950</td>\n",
       "      <td>Cancer cell line</td>\n",
       "      <td>Male</td>\n",
       "      <td>22Y</td>\n",
       "    </tr>\n",
       "    <tr>\n",
       "      <th>4</th>\n",
       "      <td>CCRF-CEM</td>\n",
       "      <td>905952</td>\n",
       "      <td>Cancer cell line</td>\n",
       "      <td>Female</td>\n",
       "      <td>4Y</td>\n",
       "    </tr>\n",
       "  </tbody>\n",
       "</table>\n",
       "</div>"
      ],
      "text/plain": [
       "    cellName cosmicId          category  gender  age\n",
       "0      786-0   905947  Cancer cell line    Male  58Y\n",
       "1       A498   905948  Cancer cell line    Male  52Y\n",
       "2  A549/ATCC   905949  Cancer cell line    Male  58Y\n",
       "3       ACHN   905950  Cancer cell line    Male  22Y\n",
       "4   CCRF-CEM   905952  Cancer cell line  Female   4Y"
      ]
     },
     "execution_count": 5,
     "metadata": {},
     "output_type": "execute_result"
    }
   ],
   "source": [
    "cellLine_info.head()"
   ]
  },
  {
   "cell_type": "code",
   "execution_count": 6,
   "id": "321fbb61",
   "metadata": {},
   "outputs": [],
   "source": [
    "cat_ohe = pd.get_dummies(cellLine_info.category, prefix='cat')"
   ]
  },
  {
   "cell_type": "code",
   "execution_count": 7,
   "id": "b5fca92e",
   "metadata": {},
   "outputs": [],
   "source": [
    "cellLine_info_full = pd.concat([cellLine_info,cat_ohe], axis=1)"
   ]
  },
  {
   "cell_type": "code",
   "execution_count": 8,
   "id": "d2f0d732",
   "metadata": {},
   "outputs": [],
   "source": [
    "gender_ohe = pd.get_dummies(cellLine_info.gender, prefix='gender')"
   ]
  },
  {
   "cell_type": "code",
   "execution_count": 9,
   "id": "cf9b148b",
   "metadata": {},
   "outputs": [],
   "source": [
    "cellLine_info_full = pd.concat([cellLine_info_full,gender_ohe], axis=1)"
   ]
  },
  {
   "cell_type": "code",
   "execution_count": 10,
   "id": "29c76974",
   "metadata": {},
   "outputs": [],
   "source": [
    "cellLine_info_full['age'] = cellLine_info_full['age'].str.replace('Y','').replace('Age unspecified','0')\n",
    "cellLine_info_full['age'] = cellLine_info_full['age'].astype('int')"
   ]
  },
  {
   "cell_type": "code",
   "execution_count": 11,
   "id": "c5263722",
   "metadata": {},
   "outputs": [
    {
     "data": {
      "text/plain": [
       "array([58, 52, 22,  4, 70, 69,  0, 48, 36, 60, 62, 47, 53, 43, 19, 64, 51,\n",
       "       42, 61, 24, 67, 34, 75, 11, 54, 31,  1, 33, 49, 74, 55, 46, 29, 50,\n",
       "       56, 27, 18, 65, 59, 63, 39, 25])"
      ]
     },
     "execution_count": 11,
     "metadata": {},
     "output_type": "execute_result"
    }
   ],
   "source": [
    "cellLine_info_full['age'].unique()"
   ]
  },
  {
   "cell_type": "code",
   "execution_count": 12,
   "id": "7a23ffac",
   "metadata": {},
   "outputs": [],
   "source": [
    "cellLine_info_full = cellLine_info_full.drop('cosmicId', 1)\n",
    "cellLine_info_full = cellLine_info_full.drop('category', 1)\n",
    "cellLine_info_full = cellLine_info_full.drop('gender', 1)"
   ]
  },
  {
   "cell_type": "code",
   "execution_count": 13,
   "id": "a93d75e0",
   "metadata": {},
   "outputs": [
    {
     "data": {
      "text/html": [
       "<div>\n",
       "<style scoped>\n",
       "    .dataframe tbody tr th:only-of-type {\n",
       "        vertical-align: middle;\n",
       "    }\n",
       "\n",
       "    .dataframe tbody tr th {\n",
       "        vertical-align: top;\n",
       "    }\n",
       "\n",
       "    .dataframe thead th {\n",
       "        text-align: right;\n",
       "    }\n",
       "</style>\n",
       "<table border=\"1\" class=\"dataframe\">\n",
       "  <thead>\n",
       "    <tr style=\"text-align: right;\">\n",
       "      <th></th>\n",
       "      <th>cellName</th>\n",
       "      <th>age</th>\n",
       "      <th>cat_Cancer cell line</th>\n",
       "      <th>cat_Embryonic stem cell</th>\n",
       "      <th>cat_Hybridoma</th>\n",
       "      <th>cat_Transformed cell line</th>\n",
       "      <th>gender_Female</th>\n",
       "      <th>gender_Male</th>\n",
       "      <th>gender_Sex unspecified</th>\n",
       "    </tr>\n",
       "  </thead>\n",
       "  <tbody>\n",
       "    <tr>\n",
       "      <th>0</th>\n",
       "      <td>786-0</td>\n",
       "      <td>58</td>\n",
       "      <td>1</td>\n",
       "      <td>0</td>\n",
       "      <td>0</td>\n",
       "      <td>0</td>\n",
       "      <td>0</td>\n",
       "      <td>1</td>\n",
       "      <td>0</td>\n",
       "    </tr>\n",
       "    <tr>\n",
       "      <th>1</th>\n",
       "      <td>A498</td>\n",
       "      <td>52</td>\n",
       "      <td>1</td>\n",
       "      <td>0</td>\n",
       "      <td>0</td>\n",
       "      <td>0</td>\n",
       "      <td>0</td>\n",
       "      <td>1</td>\n",
       "      <td>0</td>\n",
       "    </tr>\n",
       "    <tr>\n",
       "      <th>2</th>\n",
       "      <td>A549/ATCC</td>\n",
       "      <td>58</td>\n",
       "      <td>1</td>\n",
       "      <td>0</td>\n",
       "      <td>0</td>\n",
       "      <td>0</td>\n",
       "      <td>0</td>\n",
       "      <td>1</td>\n",
       "      <td>0</td>\n",
       "    </tr>\n",
       "    <tr>\n",
       "      <th>3</th>\n",
       "      <td>ACHN</td>\n",
       "      <td>22</td>\n",
       "      <td>1</td>\n",
       "      <td>0</td>\n",
       "      <td>0</td>\n",
       "      <td>0</td>\n",
       "      <td>0</td>\n",
       "      <td>1</td>\n",
       "      <td>0</td>\n",
       "    </tr>\n",
       "    <tr>\n",
       "      <th>4</th>\n",
       "      <td>CCRF-CEM</td>\n",
       "      <td>4</td>\n",
       "      <td>1</td>\n",
       "      <td>0</td>\n",
       "      <td>0</td>\n",
       "      <td>0</td>\n",
       "      <td>1</td>\n",
       "      <td>0</td>\n",
       "      <td>0</td>\n",
       "    </tr>\n",
       "  </tbody>\n",
       "</table>\n",
       "</div>"
      ],
      "text/plain": [
       "    cellName  age  cat_Cancer cell line  cat_Embryonic stem cell  \\\n",
       "0      786-0   58                     1                        0   \n",
       "1       A498   52                     1                        0   \n",
       "2  A549/ATCC   58                     1                        0   \n",
       "3       ACHN   22                     1                        0   \n",
       "4   CCRF-CEM    4                     1                        0   \n",
       "\n",
       "   cat_Hybridoma  cat_Transformed cell line  gender_Female  gender_Male  \\\n",
       "0              0                          0              0            1   \n",
       "1              0                          0              0            1   \n",
       "2              0                          0              0            1   \n",
       "3              0                          0              0            1   \n",
       "4              0                          0              1            0   \n",
       "\n",
       "   gender_Sex unspecified  \n",
       "0                       0  \n",
       "1                       0  \n",
       "2                       0  \n",
       "3                       0  \n",
       "4                       0  "
      ]
     },
     "execution_count": 13,
     "metadata": {},
     "output_type": "execute_result"
    }
   ],
   "source": [
    "cellLine_info_full.head()"
   ]
  },
  {
   "cell_type": "code",
   "execution_count": 14,
   "id": "9c106d87",
   "metadata": {
    "scrolled": true
   },
   "outputs": [
    {
     "data": {
      "text/plain": [
       "cellName                     string\n",
       "age                           int64\n",
       "cat_Cancer cell line          uint8\n",
       "cat_Embryonic stem cell       uint8\n",
       "cat_Hybridoma                 uint8\n",
       "cat_Transformed cell line     uint8\n",
       "gender_Female                 uint8\n",
       "gender_Male                   uint8\n",
       "gender_Sex unspecified        uint8\n",
       "dtype: object"
      ]
     },
     "execution_count": 14,
     "metadata": {},
     "output_type": "execute_result"
    }
   ],
   "source": [
    "cellLine_info_full.dtypes"
   ]
  }
 ],
 "metadata": {
  "kernelspec": {
   "display_name": "Python 3 (ipykernel)",
   "language": "python",
   "name": "python3"
  },
  "language_info": {
   "codemirror_mode": {
    "name": "ipython",
    "version": 3
   },
   "file_extension": ".py",
   "mimetype": "text/x-python",
   "name": "python",
   "nbconvert_exporter": "python",
   "pygments_lexer": "ipython3",
   "version": "3.8.12"
  }
 },
 "nbformat": 4,
 "nbformat_minor": 5
}
